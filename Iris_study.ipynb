{
 "cells": [
  {
   "cell_type": "code",
   "execution_count": 1,
   "id": "a774303c",
   "metadata": {},
   "outputs": [],
   "source": [
    "#The objective of this project is to set some basic notions of how to create a basic machine learning project from \n",
    "#start to finish\n",
    "########\n",
    "#First we import the libraries that we are going to use\n",
    "import numpy as np\n",
    "import pandas as pd\n",
    "import matplotlib.pyplot as plt\n",
    "import sklearn\n",
    "from sklearn.datasets import load_iris\n",
    "from sklearn.neighbors import KNeighborsClassifier\n",
    "from sklearn.metrics import accuracy_score\n",
    "from sklearn.model_selection import train_test_split"
   ]
  },
  {
   "cell_type": "code",
   "execution_count": 2,
   "id": "71b5f987",
   "metadata": {},
   "outputs": [],
   "source": [
    "#We now proceed to load the dataset using iris as the name of the instance\n",
    "iris = sklearn.datasets.load_iris()"
   ]
  },
  {
   "cell_type": "code",
   "execution_count": 3,
   "id": "be8ac303",
   "metadata": {},
   "outputs": [],
   "source": [
    "#We now study the whole dataset\n",
    "x = iris.data\n",
    "y = iris.target\n",
    "features = iris.feature_names\n",
    "target = iris.target_names"
   ]
  },
  {
   "cell_type": "code",
   "execution_count": 4,
   "id": "0b5d0775",
   "metadata": {},
   "outputs": [
    {
     "name": "stdout",
     "output_type": "stream",
     "text": [
      "The categories for our classification problem at hand are:['setosa' 'versicolor' 'virginica']\n",
      "Which have the features:['sepal length (cm)', 'sepal width (cm)', 'petal length (cm)', 'petal width (cm)']\n",
      "And some examples of the data are:\n",
      "[[5.1 3.5 1.4 0.2]\n",
      " [4.9 3.  1.4 0.2]\n",
      " [4.7 3.2 1.3 0.2]\n",
      " [4.6 3.1 1.5 0.2]\n",
      " [5.  3.6 1.4 0.2]]\n"
     ]
    }
   ],
   "source": [
    "print('The categories for our classification problem at hand are:' + str(target) + '\\nWhich have the features:'+ str(features) + '\\nAnd some examples of the data are:' + '\\n' +str(x[:5]) )"
   ]
  },
  {
   "cell_type": "code",
   "execution_count": 5,
   "id": "6e831c9c",
   "metadata": {},
   "outputs": [],
   "source": [
    "x2 = x[:,:2]"
   ]
  },
  {
   "cell_type": "code",
   "execution_count": 6,
   "id": "d781f3f4",
   "metadata": {},
   "outputs": [],
   "source": [
    "#To conduct a study of the data quality we'll make a dataframe with it\n",
    "df = pd.DataFrame(x, columns = features)\n",
    "df['target'] = y"
   ]
  },
  {
   "cell_type": "code",
   "execution_count": 7,
   "id": "25ff5b0e",
   "metadata": {},
   "outputs": [
    {
     "name": "stdout",
     "output_type": "stream",
     "text": [
      "<class 'pandas.core.frame.DataFrame'>\n",
      "RangeIndex: 150 entries, 0 to 149\n",
      "Data columns (total 5 columns):\n",
      " #   Column             Non-Null Count  Dtype  \n",
      "---  ------             --------------  -----  \n",
      " 0   sepal length (cm)  150 non-null    float64\n",
      " 1   sepal width (cm)   150 non-null    float64\n",
      " 2   petal length (cm)  150 non-null    float64\n",
      " 3   petal width (cm)   150 non-null    float64\n",
      " 4   target             150 non-null    int64  \n",
      "dtypes: float64(4), int64(1)\n",
      "memory usage: 6.0 KB\n"
     ]
    }
   ],
   "source": [
    "#lets see the summarization of different values\n",
    "df.info()"
   ]
  },
  {
   "cell_type": "code",
   "execution_count": 8,
   "id": "2132da56",
   "metadata": {},
   "outputs": [
    {
     "data": {
      "text/html": [
       "<div>\n",
       "<style scoped>\n",
       "    .dataframe tbody tr th:only-of-type {\n",
       "        vertical-align: middle;\n",
       "    }\n",
       "\n",
       "    .dataframe tbody tr th {\n",
       "        vertical-align: top;\n",
       "    }\n",
       "\n",
       "    .dataframe thead th {\n",
       "        text-align: right;\n",
       "    }\n",
       "</style>\n",
       "<table border=\"1\" class=\"dataframe\">\n",
       "  <thead>\n",
       "    <tr style=\"text-align: right;\">\n",
       "      <th></th>\n",
       "      <th>sepal length (cm)</th>\n",
       "      <th>sepal width (cm)</th>\n",
       "      <th>petal length (cm)</th>\n",
       "      <th>petal width (cm)</th>\n",
       "      <th>target</th>\n",
       "    </tr>\n",
       "  </thead>\n",
       "  <tbody>\n",
       "    <tr>\n",
       "      <th>count</th>\n",
       "      <td>150.000000</td>\n",
       "      <td>150.000000</td>\n",
       "      <td>150.000000</td>\n",
       "      <td>150.000000</td>\n",
       "      <td>150.000000</td>\n",
       "    </tr>\n",
       "    <tr>\n",
       "      <th>mean</th>\n",
       "      <td>5.843333</td>\n",
       "      <td>3.057333</td>\n",
       "      <td>3.758000</td>\n",
       "      <td>1.199333</td>\n",
       "      <td>1.000000</td>\n",
       "    </tr>\n",
       "    <tr>\n",
       "      <th>std</th>\n",
       "      <td>0.828066</td>\n",
       "      <td>0.435866</td>\n",
       "      <td>1.765298</td>\n",
       "      <td>0.762238</td>\n",
       "      <td>0.819232</td>\n",
       "    </tr>\n",
       "    <tr>\n",
       "      <th>min</th>\n",
       "      <td>4.300000</td>\n",
       "      <td>2.000000</td>\n",
       "      <td>1.000000</td>\n",
       "      <td>0.100000</td>\n",
       "      <td>0.000000</td>\n",
       "    </tr>\n",
       "    <tr>\n",
       "      <th>25%</th>\n",
       "      <td>5.100000</td>\n",
       "      <td>2.800000</td>\n",
       "      <td>1.600000</td>\n",
       "      <td>0.300000</td>\n",
       "      <td>0.000000</td>\n",
       "    </tr>\n",
       "    <tr>\n",
       "      <th>50%</th>\n",
       "      <td>5.800000</td>\n",
       "      <td>3.000000</td>\n",
       "      <td>4.350000</td>\n",
       "      <td>1.300000</td>\n",
       "      <td>1.000000</td>\n",
       "    </tr>\n",
       "    <tr>\n",
       "      <th>75%</th>\n",
       "      <td>6.400000</td>\n",
       "      <td>3.300000</td>\n",
       "      <td>5.100000</td>\n",
       "      <td>1.800000</td>\n",
       "      <td>2.000000</td>\n",
       "    </tr>\n",
       "    <tr>\n",
       "      <th>max</th>\n",
       "      <td>7.900000</td>\n",
       "      <td>4.400000</td>\n",
       "      <td>6.900000</td>\n",
       "      <td>2.500000</td>\n",
       "      <td>2.000000</td>\n",
       "    </tr>\n",
       "  </tbody>\n",
       "</table>\n",
       "</div>"
      ],
      "text/plain": [
       "       sepal length (cm)  sepal width (cm)  petal length (cm)  \\\n",
       "count         150.000000        150.000000         150.000000   \n",
       "mean            5.843333          3.057333           3.758000   \n",
       "std             0.828066          0.435866           1.765298   \n",
       "min             4.300000          2.000000           1.000000   \n",
       "25%             5.100000          2.800000           1.600000   \n",
       "50%             5.800000          3.000000           4.350000   \n",
       "75%             6.400000          3.300000           5.100000   \n",
       "max             7.900000          4.400000           6.900000   \n",
       "\n",
       "       petal width (cm)      target  \n",
       "count        150.000000  150.000000  \n",
       "mean           1.199333    1.000000  \n",
       "std            0.762238    0.819232  \n",
       "min            0.100000    0.000000  \n",
       "25%            0.300000    0.000000  \n",
       "50%            1.300000    1.000000  \n",
       "75%            1.800000    2.000000  \n",
       "max            2.500000    2.000000  "
      ]
     },
     "execution_count": 8,
     "metadata": {},
     "output_type": "execute_result"
    }
   ],
   "source": [
    "#We see healthy data, all the values are what is expected (This is iris dataset but comment is here for educational \n",
    "#purposes)\n",
    "\n",
    "df.describe()"
   ]
  },
  {
   "cell_type": "code",
   "execution_count": 9,
   "id": "43a719ac",
   "metadata": {},
   "outputs": [],
   "source": [
    "#We now proceed to split it\n",
    "x_train, x_test, y_train, y_test = train_test_split(x2, y, train_size=0.8, test_size=0.2)"
   ]
  },
  {
   "cell_type": "code",
   "execution_count": 10,
   "id": "94912a6f",
   "metadata": {},
   "outputs": [
    {
     "data": {
      "text/plain": [
       "[0.7,\n",
       " 0.7333333333333333,\n",
       " 0.8333333333333334,\n",
       " 0.7666666666666667,\n",
       " 0.8666666666666667,\n",
       " 0.8333333333333334,\n",
       " 0.8,\n",
       " 0.7666666666666667,\n",
       " 0.8333333333333334,\n",
       " 0.8333333333333334,\n",
       " 0.8333333333333334,\n",
       " 0.8,\n",
       " 0.8,\n",
       " 0.8,\n",
       " 0.8333333333333334,\n",
       " 0.8333333333333334,\n",
       " 0.8333333333333334,\n",
       " 0.8,\n",
       " 0.8333333333333334,\n",
       " 0.8333333333333334]"
      ]
     },
     "execution_count": 10,
     "metadata": {},
     "output_type": "execute_result"
    }
   ],
   "source": [
    "#We now proceed to explore the hyper-parameter space to see how the model performs for a different ammount of neighborhs\n",
    "#First we create an empty list to add the different accuracies that we record\n",
    "accuracies = []\n",
    "#Now the loop over the hyper-parameter\n",
    "for k in range(20):\n",
    "    #We instantiate a model\n",
    "    knn = KNeighborsClassifier(n_neighbors=k+1)\n",
    "    #Fit it\n",
    "    knn.fit(x_train, y_train)\n",
    "    #Predict and score it's accuracy\n",
    "    y_pred = knn.predict(x_test)\n",
    "    accuracy = accuracy_score(y_pred, y_test)\n",
    "    accuracies.append(accuracy)\n",
    "accuracies"
   ]
  },
  {
   "cell_type": "code",
   "execution_count": 11,
   "id": "0f3e85cc",
   "metadata": {},
   "outputs": [
    {
     "data": {
      "image/png": "[encoded data removed]",
      "text/plain": [
       "<Figure size 432x288 with 1 Axes>"
      ]
     },
     "metadata": {
      "needs_background": "light"
     },
     "output_type": "display_data"
    }
   ],
   "source": [
    "#We now proceed to make a graph with the different accuracies\n",
    "k_list = list(range(1,21))\n",
    "plt.plot(k_list, accuracies)\n",
    "plt.xlabel('number of neighborhs')\n",
    "plt.ylabel('accuracy')\n",
    "plt.show()"
   ]
  },
  {
   "cell_type": "code",
   "execution_count": 12,
   "id": "36b92457",
   "metadata": {},
   "outputs": [
    {
     "data": {
      "text/plain": [
       "KNeighborsClassifier(n_neighbors=13)"
      ]
     },
     "execution_count": 12,
     "metadata": {},
     "output_type": "execute_result"
    }
   ],
   "source": [
    "#The best models appear to be with k=19. We will go with k=13 to make a trade-off of computing time and accuracy.\n",
    "#As well as to try to avoid overfitting\n",
    "########\n",
    "#Now we'll proceed to do a decision boundary plot to see the boundaries in our model\n",
    "model = KNeighborsClassifier(n_neighbors=13)\n",
    "model.fit(x_train,y_train)"
   ]
  },
  {
   "cell_type": "code",
   "execution_count": 19,
   "id": "46c64953",
   "metadata": {},
   "outputs": [],
   "source": [
    "#Lets now create the function that will give me de decision boundary plot\n",
    "def plt_boundary(x,y,model):\n",
    "    #First let's stablish the limits of the grid\n",
    "    x_min, x_max = x[:,0].min() - 1, x[:,0].max() +1\n",
    "    y_min, y_max = x[:,1].min() - 1, x[:,1].max() +1\n",
    "    #The step size of the grid\n",
    "    h=0.01\n",
    "    #Create the grid \n",
    "    x_grid, y_grid = np.meshgrid(np.arange(x_min,x_max,h), np.arange(y_min,y_max,h))\n",
    "    #Predict for all the values of the grid\n",
    "    z = model.predict(np.c_[x_grid.ravel(),y_grid.ravel()])\n",
    "    z = z.reshape(x_grid.shape)\n",
    "    #We now create the plot and do the contours\n",
    "    plt.figure()\n",
    "    plt.contourf(x_grid, y_grid, z, cmap=plt.cm.RdYlBu, alpha=0.5)\n",
    "    #And we plot\n",
    "    plt.scatter(x[:,0],x[:,1],c=y,cmap=plt.cm.RdYlBu,)\n",
    "    plt.xlabel('Sepal length')\n",
    "    plt.ylabel('Sepal width')\n",
    "    plt.title('Decision boundaries')\n",
    "    plt.show()"
   ]
  },
  {
   "cell_type": "code",
   "execution_count": 20,
   "id": "e3a99030",
   "metadata": {},
   "outputs": [
    {
     "data": {
      "image/png": "[encoded data removed]",
      "text/plain": [
       "<Figure size 432x288 with 1 Axes>"
      ]
     },
     "metadata": {
      "needs_background": "light"
     },
     "output_type": "display_data"
    }
   ],
   "source": [
    "plt_boundary(x_test,y_test,model)"
   ]
  },
  {
   "cell_type": "code",
   "execution_count": 15,
   "id": "cd600072",
   "metadata": {},
   "outputs": [],
   "source": [
    "#From seeing that, we can easily deduce a huge ammount of overfitting. lets try to go over the hyper-parameter space\n",
    "#for k in range(1,25):\n",
    "#    model = KNeighborsClassifier(n_neighbors=k)\n",
    "#    model.fit(x_train,y_train)\n",
    "#    plt_boundary(x_test,y_test,model)\n",
    "###########\n",
    "#I'm leaving this here for the fun of my approach"
   ]
  },
  {
   "cell_type": "code",
   "execution_count": 16,
   "id": "6edf68b4",
   "metadata": {},
   "outputs": [
    {
     "data": {
      "text/plain": [
       "SVC()"
      ]
     },
     "execution_count": 16,
     "metadata": {},
     "output_type": "execute_result"
    }
   ],
   "source": [
    "#Lets now proceed to create an SVM model to try to classify the data and see how it compares to KNN.\n",
    "from sklearn.svm import SVC\n",
    "svm = SVC(kernel='rbf') #We are using a rbf kernel because the data as we've seen so far is not linearly separable\n",
    "\n",
    "svm.fit(x_train,y_train)"
   ]
  },
  {
   "cell_type": "code",
   "execution_count": 17,
   "id": "71ad17b4",
   "metadata": {},
   "outputs": [],
   "source": [
    "y_pred = svm.predict(x_test)\n",
    "accuracy = accuracy_score(y_pred, y_test)"
   ]
  },
  {
   "cell_type": "code",
   "execution_count": 18,
   "id": "0468fa29",
   "metadata": {},
   "outputs": [
    {
     "data": {
      "text/plain": [
       "0.8666666666666667"
      ]
     },
     "execution_count": 18,
     "metadata": {},
     "output_type": "execute_result"
    }
   ],
   "source": [
    "accuracy"
   ]
  },
  {
   "cell_type": "code",
   "execution_count": 21,
   "id": "9841b667",
   "metadata": {},
   "outputs": [
    {
     "data": {
      "image/png": "[encoded data removed]",
      "text/plain": [
       "<Figure size 432x288 with 1 Axes>"
      ]
     },
     "metadata": {
      "needs_background": "light"
     },
     "output_type": "display_data"
    }
   ],
   "source": [
    "plt_boundary(x_test,y_test,svm)"
   ]
  }
 ],
 "metadata": {
  "kernelspec": {
   "display_name": "Python 3",
   "language": "python",
   "name": "python3"
  },
  "language_info": {
   "codemirror_mode": {
    "name": "ipython",
    "version": 3
   },
   "file_extension": ".py",
   "mimetype": "text/x-python",
   "name": "python",
   "nbconvert_exporter": "python",
   "pygments_lexer": "ipython3",
   "version": "3.8.8"
  }
 },
 "nbformat": 4,
 "nbformat_minor": 5
}
